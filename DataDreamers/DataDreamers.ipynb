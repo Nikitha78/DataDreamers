{
 "cells": [
  {
   "cell_type": "code",
   "execution_count": 2,
   "id": "2566e028-1025-456e-9e44-ad10eec93f4b",
   "metadata": {},
   "outputs": [
    {
     "name": "stdout",
     "output_type": "stream",
     "text": [
      "+----------+---------------------------+\n",
      "|HCPCS Code|Avg Medicare Allowed Amount|\n",
      "+----------+---------------------------+\n",
      "|     80047|         11.302564103333333|\n",
      "|     93924|          97.10000000000001|\n",
      "|     80305|         14.239228864111116|\n",
      "|     88311|         14.404981666363636|\n",
      "|     36470|         105.15273039000002|\n",
      "|     45300|                      73.06|\n",
      "|     15271|                      89.19|\n",
      "|     64612|                     118.89|\n",
      "|     27130|         189.85777777777778|\n",
      "|     72070|         19.761715263888888|\n",
      "|     97163|          81.42745082923078|\n",
      "|     92537|         39.541999999999994|\n",
      "|     69433|                246.5995617|\n",
      "|     93225|                  23.960617|\n",
      "|     38900|         152.51999999999998|\n",
      "|     77321|                      46.91|\n",
      "|     93970|               83.530862035|\n",
      "|     21016|                761.0728571|\n",
      "|     76604|          26.80943471333333|\n",
      "|     33284|                175.7527273|\n",
      "+----------+---------------------------+\n",
      "only showing top 20 rows\n",
      "\n"
     ]
    }
   ],
   "source": [
    "from pyspark.sql import functions as F\n",
    "avg_allowed_amount_by_hcpcs = df.groupBy('HCPCS Code').agg(F.avg('Average Medicare Allowed Amount').alias('Avg Medicare Allowed Amount'))\n",
    "avg_allowed_amount_by_hcpcs.show()"
   ]
  },
  {
   "cell_type": "code",
   "execution_count": 3,
   "id": "79a37dda-db5e-4bb0-bb7d-2f4c833fb081",
   "metadata": {},
   "outputs": [
    {
     "name": "stdout",
     "output_type": "stream",
     "text": [
      "+----------------------------+----------------------------------+\n",
      "|National Provider Identifier|Average Charge-Medicare Difference|\n",
      "+----------------------------+----------------------------------+\n",
      "|                  1275513095|                              NULL|\n",
      "|                  1922072024|                      12.167297295|\n",
      "|                  1881643153|                        5.67998507|\n",
      "|                  1679579908|                 78.60549452000001|\n",
      "|                  1386642403|                 7.470052080000002|\n",
      "|                  1114917481|                      145.92662252|\n",
      "|                  1992737712|                      16.600888891|\n",
      "|                  1932174687|                            115.29|\n",
      "|                  1689645707|                          49.58875|\n",
      "|                  1306886601|                          24.83375|\n",
      "|                  1265516751|                            86.134|\n",
      "|                  1497966808|                 62.42666670000001|\n",
      "|                  1407823099|                13.911791050000001|\n",
      "|                  1912197575|                      181.32999996|\n",
      "|                  1720141153|                        94.2196699|\n",
      "|                  1689650723|                       48.36819462|\n",
      "|                  1487684155|                      155.21929294|\n",
      "|                  1396853636|                172.99259259000002|\n",
      "|                  1518932607|                        102.864375|\n",
      "|                  1669466678|                             84.61|\n",
      "+----------------------------+----------------------------------+\n",
      "only showing top 20 rows\n",
      "\n"
     ]
    }
   ],
   "source": [
    "from pyspark.sql import SparkSession\n",
    "from pyspark.sql.functions import col\n",
    "spark = SparkSession.builder \\\n",
    "    .appName(\"Healthcare Analysis\") \\\n",
    "    .getOrCreate()\n",
    "df = spark.read.csv(\"Healthcare.csv\", header=True, inferSchema=True)\n",
    "df = df.withColumn(\"Charge_Medicare_Difference\", col(\"Average Submitted Charge Amount\") - col(\"Average Medicare Payment Amount\"))\n",
    "avg_difference_by_provider = df.groupBy(\"National Provider Identifier\").agg({\"Charge_Medicare_Difference\": \"mean\"}).withColumnRenamed(\"avg(Charge_Medicare_Difference)\", \"Average Charge-Medicare Difference\")\n",
    "avg_difference_by_provider.show()\n"
   ]
  },
  {
   "cell_type": "code",
   "execution_count": 4,
   "id": "935b8a91-7074-4273-8e50-3e80c0cf8543",
   "metadata": {},
   "outputs": [
    {
     "name": "stdout",
     "output_type": "stream",
     "text": [
      "+--------------------------+-------------------------------+\n",
      "|State Code of the Provider|Average Medicare Allowed Amount|\n",
      "+--------------------------+-------------------------------+\n",
      "|                        AZ|              88.29084555604098|\n",
      "|                        SC|               94.8872944958532|\n",
      "|                        LA|              81.94336889097576|\n",
      "|                        MN|              73.93122305992534|\n",
      "|                        NJ|             100.48473151580788|\n",
      "|                        DC|             117.15874546517857|\n",
      "|                        ZZ|              29.12232394333333|\n",
      "|                        OR|              89.10338451771283|\n",
      "|                        VA|              89.36289265303968|\n",
      "|                      NULL|                           NULL|\n",
      "|                        RI|             108.06410787159494|\n",
      "|                        KY|              74.67447787479236|\n",
      "|                        WY|              91.90414419048275|\n",
      "|                        NH|               85.2076559511759|\n",
      "|                        MI|              83.88926531193651|\n",
      "|                        NV|              93.60301808361665|\n",
      "|                        WI|              76.98470766615793|\n",
      "|                        ID|              76.35694673611903|\n",
      "|                        CA|             100.07916221656549|\n",
      "|                        CT|              83.37945077045173|\n",
      "+--------------------------+-------------------------------+\n",
      "only showing top 20 rows\n",
      "\n"
     ]
    }
   ],
   "source": [
    "  from pyspark.sql import SparkSession\n",
    "spark = SparkSession.builder \\\n",
    "    .appName(\"Healthcare Analysis\") \\\n",
    "    .getOrCreate()\n",
    "df = spark.read.csv(\"Healthcare.csv\", header=True, inferSchema=True)\n",
    "avg_allowed_amount_by_state = df.groupBy(\"State Code of the Provider\").agg({\"Average Medicare Allowed Amount\": \"mean\"}).withColumnRenamed(\"avg(Average Medicare Allowed Amount)\", \"Average Medicare Allowed Amount\")\n",
    "avg_allowed_amount_by_state.show()"
   ]
  },
  {
   "cell_type": "code",
   "execution_count": 5,
   "id": "1a088304-7ac2-42d9-848d-216e86affd49",
   "metadata": {},
   "outputs": [
    {
     "name": "stdout",
     "output_type": "stream",
     "text": [
      "+--------------------+-------------------+\n",
      "|City of the Provider|Number of Providers|\n",
      "+--------------------+-------------------+\n",
      "|          CUMBERLAND|                 10|\n",
      "|           PRINCETON|                 16|\n",
      "|              NOVATO|                  4|\n",
      "|            OGALLALA|                  1|\n",
      "|                BOAZ|                  1|\n",
      "|           WATERTOWN|                  9|\n",
      "|         MCMINNVILLE|                  4|\n",
      "|           SOUTHLAKE|                  3|\n",
      "|    OAKBROOK TERRACE|                  3|\n",
      "|        MOUNTAIN TOP|                  2|\n",
      "|          DALLASTOWN|                  4|\n",
      "|             MARLTON|                  3|\n",
      "|             EDMONDS|                  4|\n",
      "|            MAYVILLE|                  1|\n",
      "|        S SIOUX CITY|                  1|\n",
      "|              BAXLEY|                  2|\n",
      "|            EMINENCE|                  1|\n",
      "|          EAST RIDGE|                  1|\n",
      "|                ANNA|                  1|\n",
      "|            LOCKHART|                  1|\n",
      "+--------------------+-------------------+\n",
      "only showing top 20 rows\n",
      "\n"
     ]
    }
   ],
   "source": [
    "from pyspark.sql import SparkSession\n",
    "spark = SparkSession.builder \\\n",
    "    .appName(\"Healthcare Analysis\") \\\n",
    "    .getOrCreate()\n",
    "df = spark.read.csv(\"Healthcare.csv\", header=True, inferSchema=True)\n",
    "providers_by_city = df.groupBy(\"City of the Provider\").agg({\"National Provider Identifier\": \"count\"}).withColumnRenamed(\"count(National Provider Identifier)\", \"Number of Providers\")\n",
    "providers_by_city.show()"
   ]
  },
  {
   "cell_type": "code",
   "execution_count": 6,
   "id": "defff1e8-0b00-41e9-9a05-85a077a5ab9d",
   "metadata": {},
   "outputs": [
    {
     "name": "stdout",
     "output_type": "stream",
     "text": [
      "+----------+-----+\n",
      "|HCPCS Code|count|\n",
      "+----------+-----+\n",
      "|      NULL|81241|\n",
      "|     99213|  875|\n",
      "|     99214|  818|\n",
      "|     99203|  357|\n",
      "|     99232|  324|\n",
      "+----------+-----+\n",
      "\n"
     ]
    }
   ],
   "source": [
    "from pyspark.sql import functions as F\n",
    "hcpcs_counts = df.groupBy('HCPCS Code').count()\n",
    "top_five_hcpcs = hcpcs_counts.orderBy(F.desc('count')).limit(5)\n",
    "top_five_hcpcs.show()\n"
   ]
  },
  {
   "cell_type": "code",
   "execution_count": 7,
   "id": "eecc26d5-628b-467d-9381-20e0f2ec69cb",
   "metadata": {},
   "outputs": [
    {
     "name": "stdout",
     "output_type": "stream",
     "text": [
      "+----------+-----+\n",
      "|HCPCS Code|count|\n",
      "+----------+-----+\n",
      "|     99213|   60|\n",
      "|     99214|   45|\n",
      "|     99212|   23|\n",
      "|     99203|   23|\n",
      "|     99204|   22|\n",
      "|     99223|   19|\n",
      "|     99233|   18|\n",
      "|     99232|   18|\n",
      "|     93000|   17|\n",
      "|     99285|   14|\n",
      "|     90662|   14|\n",
      "|     G0009|   14|\n",
      "|     97140|   14|\n",
      "|     G0439|   13|\n",
      "|     G0008|   13|\n",
      "|     99283|   11|\n",
      "|     99215|   11|\n",
      "|     99231|   11|\n",
      "|     36415|   10|\n",
      "|     99291|   10|\n",
      "+----------+-----+\n",
      "only showing top 20 rows\n",
      "\n"
     ]
    }
   ],
   "source": [
    "from pyspark.sql import SparkSession\n",
    "spark = SparkSession.builder \\\n",
    "    .appName(\"Healthcare Analysis\") \\\n",
    "    .getOrCreate()\n",
    "df = spark.read.csv(\"Healthcare.csv\", header=True, inferSchema=True)\n",
    "specific_state = \"NY\"\n",
    "df_specific_state = df.filter(df[\"State Code of the Provider\"] == specific_state)\n",
    "hcpcs_counts = df_specific_state.groupBy(\"HCPCS Code\").count()\n",
    "most_common_hcpcs = hcpcs_counts.orderBy(\"count\", ascending=False)\n",
    "most_common_hcpcs.show()\n"
   ]
  },
  {
   "cell_type": "code",
   "execution_count": 8,
   "id": "2148d8f7-cba6-4015-9079-4dd8d69396e6",
   "metadata": {},
   "outputs": [
    {
     "name": "stdout",
     "output_type": "stream",
     "text": [
      "+----------+-----+\n",
      "|HCPCS Code|count|\n",
      "+----------+-----+\n",
      "|     99213|   64|\n",
      "|     99214|   53|\n",
      "|     99223|   28|\n",
      "|     99203|   28|\n",
      "|     G0008|   26|\n",
      "|     99233|   21|\n",
      "|     99215|   20|\n",
      "|     99232|   19|\n",
      "|     99204|   18|\n",
      "|     99212|   17|\n",
      "|     90662|   14|\n",
      "|     99205|   13|\n",
      "|     99222|   12|\n",
      "|     G0009|   11|\n",
      "|     93000|   11|\n",
      "|     90686|   11|\n",
      "|     17000|   10|\n",
      "|     99283|   10|\n",
      "|     96372|   10|\n",
      "|     97140|   10|\n",
      "+----------+-----+\n",
      "only showing top 20 rows\n",
      "\n"
     ]
    }
   ],
   "source": [
    "from pyspark.sql import SparkSession\n",
    "spark = SparkSession.builder \\\n",
    "    .appName(\"Healthcare Analysis\") \\\n",
    "    .getOrCreate()\n",
    "df = spark.read.csv(\"Healthcare.csv\", header=True, inferSchema=True)\n",
    "specific_state = \"CA\"\n",
    "df_specific_state = df.filter(df[\"State Code of the Provider\"] == specific_state)\n",
    "hcpcs_counts = df_specific_state.groupBy(\"HCPCS Code\").count()\n",
    "most_common_hcpcs = hcpcs_counts.orderBy(\"count\", ascending=False)\n",
    "most_common_hcpcs.show()"
   ]
  },
  {
   "cell_type": "code",
   "execution_count": null,
   "id": "b46b58aa-104d-4862-9b05-24c01c8a2acd",
   "metadata": {},
   "outputs": [],
   "source": []
  }
 ],
 "metadata": {
  "kernelspec": {
   "display_name": "Python 3 (ipykernel)",
   "language": "python",
   "name": "python3"
  },
  "language_info": {
   "codemirror_mode": {
    "name": "ipython",
    "version": 3
   },
   "file_extension": ".py",
   "mimetype": "text/x-python",
   "name": "python",
   "nbconvert_exporter": "python",
   "pygments_lexer": "ipython3",
   "version": "3.11.0"
  }
 },
 "nbformat": 4,
 "nbformat_minor": 5
}
